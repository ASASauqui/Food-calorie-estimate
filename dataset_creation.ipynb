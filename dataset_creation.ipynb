{
 "cells": [
  {
   "cell_type": "markdown",
   "metadata": {},
   "source": [
    "## ==================== Libraries ===================="
   ]
  },
  {
   "cell_type": "code",
   "execution_count": 1,
   "metadata": {},
   "outputs": [],
   "source": [
    "# General.\n",
    "import random\n",
    "import shutil\n",
    "\n",
    "# Data processing.\n",
    "import os"
   ]
  },
  {
   "cell_type": "markdown",
   "metadata": {},
   "source": [
    "## ==================== Load Classification Data ===================="
   ]
  },
  {
   "cell_type": "markdown",
   "metadata": {},
   "source": [
    "### Paths"
   ]
  },
  {
   "cell_type": "code",
   "execution_count": 2,
   "metadata": {},
   "outputs": [],
   "source": [
    "principal_root = './Datasets/Detection/'\n",
    "original_dataset_root = './Datasets/Detection/Original/'\n",
    "training_folder = \"Training\"\n",
    "test_folder = \"Test\""
   ]
  },
  {
   "cell_type": "markdown",
   "metadata": {},
   "source": [
    "### Folder creation"
   ]
  },
  {
   "cell_type": "code",
   "execution_count": 3,
   "metadata": {},
   "outputs": [],
   "source": [
    "if not os.path.exists(os.path.join(principal_root, training_folder)):\n",
    "    os.makedirs(os.path.join(principal_root, training_folder))\n",
    "if not os.path.exists(os.path.join(principal_root, test_folder)):\n",
    "    os.makedirs(os.path.join(principal_root, test_folder))"
   ]
  },
  {
   "cell_type": "markdown",
   "metadata": {},
   "source": [
    "### Variables"
   ]
  },
  {
   "cell_type": "code",
   "execution_count": 4,
   "metadata": {},
   "outputs": [],
   "source": [
    "training_proportion = 0.8"
   ]
  },
  {
   "cell_type": "code",
   "execution_count": 5,
   "metadata": {},
   "outputs": [],
   "source": [
    "# Loop through all folders and files inside the parent folder.\n",
    "for folder, subfolder, files in os.walk(principal_root):\n",
    "    # Ignores.\n",
    "    if folder.endswith(training_folder) or folder.endswith(test_folder) or folder.endswith('Original') or folder.endswith('Detection/'):\n",
    "        continue\n",
    "        \n",
    "    if training_folder in folder or test_folder in folder:\n",
    "        continue\n",
    "        \n",
    "    # Class name.\n",
    "    class_name = folder.split('/')[3].split('\\\\')[1]\n",
    "    \n",
    "    # Folder class name.\n",
    "    training_folder_class_name = training_folder + '/' + class_name\n",
    "    test_folder_class_name = test_folder + '/' + class_name\n",
    "    \n",
    "    # Folder creation.\n",
    "    if not os.path.exists(os.path.join(principal_root, training_folder_class_name)):\n",
    "        os.makedirs(os.path.join(principal_root, training_folder_class_name))\n",
    "    if not os.path.exists(os.path.join(principal_root, test_folder_class_name)):\n",
    "        os.makedirs(os.path.join(principal_root, test_folder_class_name))\n",
    "        \n",
    "    # Create a list with the names of the image files in the current folder.\n",
    "    images = [file for file in files if file.endswith(\".jpg\") or file.endswith(\".png\")]\n",
    "    \n",
    "    # Calculate how many images to use for training and testing.\n",
    "    training_amount = int(len(images) * training_proportion)\n",
    "    test_amount = len(images) - training_amount\n",
    "    \n",
    "    # Shuffle the images.\n",
    "    random.shuffle(images)\n",
    "    \n",
    "    # Copy the training images to the training folder.\n",
    "    for image in images[:training_amount]:\n",
    "        img_origin_path = os.path.join(folder, image)\n",
    "        img_destination_path = os.path.join(principal_root, training_folder_class_name, image)\n",
    "        shutil.copyfile(img_origin_path, img_destination_path)\n",
    "        \n",
    "    # Copy the test images to the test folder.\n",
    "    for image in images[training_amount:]:\n",
    "        img_origin_path = os.path.join(folder, image)\n",
    "        img_destination_path = os.path.join(principal_root, test_folder_class_name, image)\n",
    "        shutil.copyfile(img_origin_path, img_destination_path)"
   ]
  }
 ],
 "metadata": {
  "kernelspec": {
   "display_name": "Python 3 (ipykernel)",
   "language": "python",
   "name": "python3"
  },
  "language_info": {
   "codemirror_mode": {
    "name": "ipython",
    "version": 3
   },
   "file_extension": ".py",
   "mimetype": "text/x-python",
   "name": "python",
   "nbconvert_exporter": "python",
   "pygments_lexer": "ipython3",
   "version": "3.8.3"
  }
 },
 "nbformat": 4,
 "nbformat_minor": 4
}
